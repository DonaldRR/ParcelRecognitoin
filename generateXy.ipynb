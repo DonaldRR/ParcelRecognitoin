{
 "cells": [
  {
   "cell_type": "code",
   "execution_count": 1,
   "metadata": {},
   "outputs": [],
   "source": [
    "import os\n",
    "from utils import *\n",
    "import numpy as np\n",
    "import cv2\n",
    "import pandas as pd\n",
    "%matplotlib inline\n",
    "import matplotlib\n",
    "from matplotlib import pyplot as plt\n",
    "import pytesseract\n",
    "from tqdm import tqdm"
   ]
  },
  {
   "cell_type": "code",
   "execution_count": 2,
   "metadata": {},
   "outputs": [],
   "source": [
    "images_names = []\n",
    "for roots, dirs, files in os.walk('./data/split_img'):\n",
    "    images_names.extend(dirs)"
   ]
  },
  {
   "cell_type": "code",
   "execution_count": 3,
   "metadata": {},
   "outputs": [],
   "source": [
    "df = pd.read_csv('./data/csv/combined-training.csv')"
   ]
  },
  {
   "cell_type": "code",
   "execution_count": 4,
   "metadata": {},
   "outputs": [],
   "source": [
    "def rotate(image, pt1, pt2):\n",
    "    rows = image.shape[0]\n",
    "    cols = image.shape[1]\n",
    "    \n",
    "    x0, y0 = pt1[0], pt1[1]\n",
    "    x1, y1 = pt2[0], pt2[1]\n",
    "    if x1 == x0:\n",
    "        x1 = x0+1\n",
    "        \n",
    "    incline = abs((y1-y0)/(x1-x0))\n",
    "    \n",
    "    if incline <1:\n",
    "        if x1 > x0:\n",
    "            return image\n",
    "        else:\n",
    "            # right 180\n",
    "            rotated_image = cv2.flip(image, -1)\n",
    "    else:\n",
    "        if y1>y0:\n",
    "            # left 90\n",
    "            M = cv2.getRotationMatrix2D((cols/2,cols/2),90,1)\n",
    "        else:\n",
    "            # right 90\n",
    "            M = cv2.getRotationMatrix2D((rows/2,rows/2),270,1)\n",
    "    \n",
    "        rotated_image = cv2.warpAffine(image,M,(rows, cols))\n",
    "    \n",
    "    return rotated_image"
   ]
  },
  {
   "cell_type": "code",
   "execution_count": 5,
   "metadata": {
    "scrolled": true
   },
   "outputs": [
    {
     "name": "stderr",
     "output_type": "stream",
     "text": [
      "100%|██████████| 696/696 [06:14<00:00,  1.86it/s]\n"
     ]
    }
   ],
   "source": [
    "X = []\n",
    "y = []\n",
    "sub_imgs = []\n",
    "pt12s = []\n",
    "i = 0\n",
    "for image_n in tqdm(images_names):\n",
    "    \n",
    "    img = cv2.imread(os.path.join('./data/img',image_n+'.jpg'))\n",
    "    \n",
    "    for j in range(7):\n",
    "        xys = df[df['Image-name'] == (image_n+'.jpg')].iloc[0,j*10+1:j*10+10]\n",
    "        xys = list(xys)\n",
    "        \n",
    "        if xys[0] == 1:\n",
    "            y.append(j+1)\n",
    "            \n",
    "            sub_img = four_point_transform(img, np.reshape(a=xys[1:], newshape=(4,2)))   \n",
    "            cv2.imwrite('./data/train_img/{}.jpg'.format(str(i)), sub_img)\n",
    "            pt1, pt2 = [xys[1], xys[2]], [xys[3], xys[4]]\n",
    "            pt12s.append([pt1, pt2])\n",
    "            sub_img = rotate(sub_img, pt1, pt2)\n",
    "            cv2.imwrite('./data/train_img_/{}.jpg'.format(str(i)), sub_img)\n",
    "            i += 1\n",
    "            chars = pytesseract.image_to_string(sub_img)\n",
    "#             print(chars)\n",
    "            X.append(chars)\n",
    "#     pytesseract.image_to_string(cv2.flip(sub_img, -1))\n",
    "X = [X[i].replace('\\n', ' ') for i in range(len(X))]"
   ]
  },
  {
   "cell_type": "code",
   "execution_count": 30,
   "metadata": {},
   "outputs": [],
   "source": [
    "img_ = cv2.imread('./data/train_img_/3.jpg')"
   ]
  },
  {
   "cell_type": "code",
   "execution_count": 31,
   "metadata": {},
   "outputs": [],
   "source": [
    "from PIL import Image                               \n",
    "im = Image.open('./data/train_img_/3.jpg')"
   ]
  },
  {
   "cell_type": "code",
   "execution_count": 32,
   "metadata": {},
   "outputs": [],
   "source": [
    "im = im.resize((img_.shape[1]*5, img_.shape[0]*5))"
   ]
  },
  {
   "cell_type": "code",
   "execution_count": 33,
   "metadata": {},
   "outputs": [],
   "source": [
    "im = np.array(im)"
   ]
  },
  {
   "cell_type": "code",
   "execution_count": 10,
   "metadata": {},
   "outputs": [],
   "source": [
    "np.save('X.npy', X)\n",
    "np.save('y.npy', y)"
   ]
  },
  {
   "cell_type": "code",
   "execution_count": null,
   "metadata": {},
   "outputs": [],
   "source": []
  }
 ],
 "metadata": {
  "kernelspec": {
   "display_name": "Python 3",
   "language": "python",
   "name": "python3"
  },
  "language_info": {
   "codemirror_mode": {
    "name": "ipython",
    "version": 3
   },
   "file_extension": ".py",
   "mimetype": "text/x-python",
   "name": "python",
   "nbconvert_exporter": "python",
   "pygments_lexer": "ipython3",
   "version": "3.6.7"
  }
 },
 "nbformat": 4,
 "nbformat_minor": 2
}
